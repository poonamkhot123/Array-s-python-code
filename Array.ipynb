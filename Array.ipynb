{
  "nbformat": 4,
  "nbformat_minor": 0,
  "metadata": {
    "colab": {
      "provenance": [],
      "authorship_tag": "ABX9TyN/JOsvIkmMPyx/3JJaxCxf",
      "include_colab_link": true
    },
    "kernelspec": {
      "name": "python3",
      "display_name": "Python 3"
    },
    "language_info": {
      "name": "python"
    }
  },
  "cells": [
    {
      "cell_type": "markdown",
      "metadata": {
        "id": "view-in-github",
        "colab_type": "text"
      },
      "source": [
        "<a href=\"https://colab.research.google.com/github/poonamkhot123/Array-s-python-code/blob/main/Array.ipynb\" target=\"_parent\"><img src=\"https://colab.research.google.com/assets/colab-badge.svg\" alt=\"Open In Colab\"/></a>"
      ]
    },
    {
      "cell_type": "markdown",
      "source": [
        "Question 1: Transpose Array\n",
        "Given a 2D NumPy array arr_2d, transpose the array and print the result.\n",
        "\n",
        "Example Input:\n",
        "arr_2d = np.array([[1, 2, 3], [4, 5, 6]])\n",
        "\n",
        "Example Output:\n",
        "Transposed Array: [[1 4] [2 5] [3 6]]"
      ],
      "metadata": {
        "id": "fKh9AqWvGPQz"
      }
    },
    {
      "cell_type": "code",
      "source": [
        "import numpy as np\n",
        "arr_2d = np.array([[1, 2, 3], [4, 5, 6]])\n",
        "print(\"Transposed Array:\", arr_2d.T)\n"
      ],
      "metadata": {
        "colab": {
          "base_uri": "https://localhost:8080/"
        },
        "id": "2LHfNFKDLwA3",
        "outputId": "3a30c98c-3b87-4e3a-877c-ebebda8ceedf"
      },
      "execution_count": null,
      "outputs": [
        {
          "output_type": "stream",
          "name": "stdout",
          "text": [
            "Transposed Array: [[1 4]\n",
            " [2 5]\n",
            " [3 6]]\n"
          ]
        }
      ]
    },
    {
      "cell_type": "markdown",
      "source": [
        "Question 2: Reshape Array\n",
        "Given a 1D NumPy array arr_1d, reshape it into a 3x2 array and print the result.\n",
        "\n",
        "Example Input:\n",
        "arr_1d = np.array([1, 2, 3, 4, 5, 6])\n",
        "\n",
        "Example Output:\n",
        "Reshaped Array: [[1 2] [3 4] [5 6]]"
      ],
      "metadata": {
        "id": "qkIT0XrTGPfI"
      }
    },
    {
      "cell_type": "code",
      "source": [
        "import numpy as np\n",
        "arr = np.array([1, 2, 3, 4, 5, 6])\n",
        "print(\"Reshaped Array:\", arr.reshape(3, 2))\n"
      ],
      "metadata": {
        "colab": {
          "base_uri": "https://localhost:8080/"
        },
        "id": "UxK6YFxkML0k",
        "outputId": "9f8c42b0-b178-4804-9925-187d2fc5c620"
      },
      "execution_count": null,
      "outputs": [
        {
          "output_type": "stream",
          "name": "stdout",
          "text": [
            "Reshaped Array: [[1 2]\n",
            " [3 4]\n",
            " [5 6]]\n"
          ]
        }
      ]
    },
    {
      "cell_type": "markdown",
      "source": [
        "Question 3: Resize Array\n",
        "Given a 1D NumPy array arr_1d, resize it into a 3x3 array and print the result.\n",
        "\n",
        "Example Input:\n",
        "arr_1d = np.array([1, 2, 3, 4, 5, 6, 7, 8])\n",
        "\n",
        "Example Output:\n",
        "Resized Array: [[1 2 3] [4 5 6] [7 8 1]]"
      ],
      "metadata": {
        "id": "Goj0s5RiGPsr"
      }
    },
    {
      "cell_type": "code",
      "source": [
        "import numpy as np\n",
        "arr = np.array([1, 2, 3, 4, 5, 6, 7, 8])\n",
        "print(\"Resized Array:\", np.resize(arr, (3, 3)))"
      ],
      "metadata": {
        "colab": {
          "base_uri": "https://localhost:8080/"
        },
        "id": "DOKkP2wmMb5i",
        "outputId": "4e3fbad3-348a-4e0d-f253-08877f939f38"
      },
      "execution_count": null,
      "outputs": [
        {
          "output_type": "stream",
          "name": "stdout",
          "text": [
            "Resized Array: [[1 2 3]\n",
            " [4 5 6]\n",
            " [7 8 1]]\n"
          ]
        }
      ]
    },
    {
      "cell_type": "markdown",
      "source": [
        "Question 4: Flatten Array\n",
        "Given a 2D NumPy array arr_2d, flatten it and print the result.\n",
        "\n",
        "Example Input:\n",
        "arr_2d = np.array([[1, 2, 3], [4, 5, 6]])\n",
        "\n",
        "Example Output:\n",
        "Flattened Array: [1 2 3 4 5 6]"
      ],
      "metadata": {
        "id": "H-Kpt4NmGQG9"
      }
    },
    {
      "cell_type": "code",
      "source": [
        "import numpy as np\n",
        "arr = np.array([[1, 2, 3], [4, 5, 6]])\n",
        "print(arr.flatten())\n"
      ],
      "metadata": {
        "colab": {
          "base_uri": "https://localhost:8080/"
        },
        "id": "hb1Tg9lJMw6_",
        "outputId": "ad00805a-0edd-4cff-f08a-a5bb28e3575c"
      },
      "execution_count": null,
      "outputs": [
        {
          "output_type": "stream",
          "name": "stdout",
          "text": [
            "[1 2 3 4 5 6]\n"
          ]
        }
      ]
    },
    {
      "cell_type": "markdown",
      "source": [
        "Question 5: Transpose Array\n",
        "Given a 3D NumPy array arr_3d, transpose the array and print the result.\n",
        "Example Input:\n",
        "arr_3d = np.array([[[1, 2], [3, 4]], [[5, 6], [7, 8]], [[9, 10], [11, 12]]])\n",
        "Example Output:\n",
        "Transposed Array: [[[ 1 5 9] [ 2 6 10]]\n",
        "[[ 3 7 11] [ 4 8 12]]]"
      ],
      "metadata": {
        "id": "qDG0NKgNGQQ4"
      }
    },
    {
      "cell_type": "code",
      "source": [
        "import numpy as np\n",
        "arr = np.array([[[1, 2], [3, 4]], [[5, 6], [7, 8]], [[9, 10], [11, 12]]])\n",
        "print(arr.transpose(1, 2, 0))"
      ],
      "metadata": {
        "colab": {
          "base_uri": "https://localhost:8080/"
        },
        "id": "Qw2qzN_WNTF2",
        "outputId": "ec3a917a-ee97-4108-fed4-7de5c2a04eab"
      },
      "execution_count": null,
      "outputs": [
        {
          "output_type": "stream",
          "name": "stdout",
          "text": [
            "[[[ 1  5  9]\n",
            "  [ 2  6 10]]\n",
            "\n",
            " [[ 3  7 11]\n",
            "  [ 4  8 12]]]\n"
          ]
        }
      ]
    },
    {
      "cell_type": "markdown",
      "source": [
        "Question 6: Reshape Array\n",
        "Given a 1D NumPy array arr_1d, reshape it into a 4x3 array and print the result.\n",
        "\n",
        "Example Input:\n",
        "arr_1d = np.array([1, 2, 3, 4, 5, 6, 7, 8, 9, 10, 11, 12])\n",
        "\n",
        "Example Output:\n",
        "Reshaped Array: [[ 1 2 3] [ 4 5 6] [ 7 8 9] [10 11 12]]\n"
      ],
      "metadata": {
        "id": "yNDPuoYjGQag"
      }
    },
    {
      "cell_type": "code",
      "source": [
        "import numpy as np\n",
        "arr = np.arange(1, 13).reshape(4, 3)\n",
        "print(arr)\n"
      ],
      "metadata": {
        "colab": {
          "base_uri": "https://localhost:8080/"
        },
        "id": "IaUw9JBVNvzv",
        "outputId": "95fcbab4-0b0e-4c86-e38d-b91db40dbe13"
      },
      "execution_count": null,
      "outputs": [
        {
          "output_type": "stream",
          "name": "stdout",
          "text": [
            "[[ 1  2  3]\n",
            " [ 4  5  6]\n",
            " [ 7  8  9]\n",
            " [10 11 12]]\n"
          ]
        }
      ]
    },
    {
      "cell_type": "markdown",
      "source": [
        "Question 7: Resize Array\n",
        "Given a 2D NumPy array arr_2d, resize it into a 4x4 array and print the result.\n",
        "\n",
        "Example Input:\n",
        "arr_2d = np.array([[1, 2], [3, 4]])\n",
        "\n",
        "Example Output:\n",
        "Resized Array: [[1 2 1 2] [3 4 3 4] [1 2 1 2] [3 4 3 4]]\n"
      ],
      "metadata": {
        "id": "f_3h5wocGQim"
      }
    },
    {
      "cell_type": "code",
      "source": [
        "import numpy as np\n",
        "arr = np.array([[1, 2], [3, 4]])\n",
        "print(np.tile(arr, (2, 2)))\n"
      ],
      "metadata": {
        "colab": {
          "base_uri": "https://localhost:8080/"
        },
        "id": "liXZMmbVOJwu",
        "outputId": "fcd48650-2d48-449b-e644-610c12e0ced6"
      },
      "execution_count": null,
      "outputs": [
        {
          "output_type": "stream",
          "name": "stdout",
          "text": [
            "[[1 2 1 2]\n",
            " [3 4 3 4]\n",
            " [1 2 1 2]\n",
            " [3 4 3 4]]\n"
          ]
        }
      ]
    },
    {
      "cell_type": "markdown",
      "source": [
        "Question 8: Flatten Array\n",
        "Given a 3D NumPy array arr_3d, flatten it and print the result.\n",
        "\n",
        "Example Input:\n",
        "arr_3d = np.array([[[1, 2], [3, 4]], [[5, 6], [7, 8]]])\n",
        "\n",
        "Example Output:\n",
        "Flattened Array: [1 2 3 4 5 6 7 8]"
      ],
      "metadata": {
        "id": "FJ3RfYjYGQs_"
      }
    },
    {
      "cell_type": "code",
      "source": [
        "import numpy as np\n",
        "arr = np.array([[[1, 2], [3, 4]], [[5, 6], [7, 8]]])\n",
        "print(arr.ravel())\n"
      ],
      "metadata": {
        "colab": {
          "base_uri": "https://localhost:8080/"
        },
        "id": "CSuPeuDbOylE",
        "outputId": "9c1eea50-2818-474c-c75e-84c45535188f"
      },
      "execution_count": null,
      "outputs": [
        {
          "output_type": "stream",
          "name": "stdout",
          "text": [
            "[1 2 3 4 5 6 7 8]\n"
          ]
        }
      ]
    }
  ]
}